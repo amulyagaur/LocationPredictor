{
  "nbformat": 4,
  "nbformat_minor": 0,
  "metadata": {
    "colab": {
      "name": "q1nn.ipynb",
      "version": "0.3.2",
      "provenance": [],
      "toc_visible": true
    },
    "kernelspec": {
      "name": "python2",
      "display_name": "Python 2"
    }
  },
  "cells": [
    {
      "metadata": {
        "id": "Die4fUiET0mx",
        "colab_type": "code",
        "colab": {}
      },
      "cell_type": "code",
      "source": [
        "import pandas as pd\n",
        "import numpy as np\n",
        "import matplotlib.pyplot as plt\n",
        "import time\n",
        "from sklearn.model_selection import train_test_split\n",
        "from sklearn import linear_model\n",
        "from sklearn.metrics import mean_squared_error\n",
        "from math import sqrt\n",
        "from sklearn.metrics import r2_score\n",
        "import sys\n",
        "from time import time\n",
        "\n",
        "data = pd.read_csv(\"./train1.csv\")\n",
        "\n",
        "used_features =[\n",
        "\t\"AP1\",\n",
        "    \"AP2\",\n",
        "    \"AP3\",\n",
        "    \"AP4\",\"AP5\",\"AP6\",\"AP7\"\n",
        "\t]\n",
        "features = data[used_features]\n",
        "labels = data[\"ROOM\"]\n",
        "\n",
        "features_train, features_test, labels_train, labels_test = train_test_split(features, labels, test_size=0.2, random_state=42)\n",
        "\n",
        "print features\n",
        "\n",
        "print labels\n",
        "\n"
      ],
      "execution_count": 0,
      "outputs": []
    },
    {
      "metadata": {
        "id": "rPY-LMVWVNpj",
        "colab_type": "code",
        "colab": {
          "base_uri": "https://localhost:8080/",
          "height": 34
        },
        "outputId": "18b95717-74a3-4b38-f4a1-6aa33c630870"
      },
      "cell_type": "code",
      "source": [
        "from sklearn.preprocessing import StandardScaler\n",
        "\n",
        "scaler = StandardScaler()\n",
        "\n",
        "scaler.fit(features_train)\n",
        "features_train = scaler.transform(features_train)\n",
        "features_test = scaler.transform(features_test)\n",
        "\n",
        "from sklearn.neural_network import MLPClassifier\n",
        "mlp = MLPClassifier(max_iter=500,activation='relu')\n",
        "mlp.fit(features_train,labels_train)\n",
        "print mlp.score(features_test,labels_test)"
      ],
      "execution_count": 9,
      "outputs": [
        {
          "output_type": "stream",
          "text": [
            "0.9833333333333333\n"
          ],
          "name": "stdout"
        }
      ]
    },
    {
      "metadata": {
        "id": "TF5SZEQoXDvA",
        "colab_type": "code",
        "colab": {}
      },
      "cell_type": "code",
      "source": [
        "test = pd.read_csv(\"./test1.csv\")\n",
        "test_fea = test[used_features]\n",
        "aid = test[\"ID\"]\n",
        "mlp = MLPClassifier(max_iter=1000,activation='relu')\n",
        "mlp.fit(features,labels)\n",
        "res = mlp.predict(test_fea)\n",
        "df = pd.DataFrame(data={\"Room\": res,\"Id\": aid})\n",
        "df.to_csv(\"./file0.csv\", sep=',',index=False)\n",
        "\n"
      ],
      "execution_count": 0,
      "outputs": []
    }
  ]
}